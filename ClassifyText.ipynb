{
 "cells": [
  {
   "cell_type": "code",
   "execution_count": 4,
   "metadata": {
    "collapsed": true
   },
   "outputs": [],
   "source": [
    "from pyspark.ml.feature import HashingTF, IDF, Tokenizer\n",
    "from pyspark.context import SparkContext\n",
    "from pyspark.sql.session import SparkSession\n",
    "from pyspark.ml.classification import LogisticRegression\n",
    "import pyspark.sql.functions as F\n",
    "import pyspark.sql.types as T\n",
    "\n",
    "sc = SparkContext('local')\n",
    "spark = SparkSession(sc)"
   ]
  },
  {
   "cell_type": "code",
   "execution_count": 5,
   "metadata": {
    "collapsed": true
   },
   "outputs": [],
   "source": [
    "df = spark.read.format(\"csv\").option(\"inferschema\",\"true\").option(\"header\", \"true\").option(\"delimiter\", \"\\t\").load(\"trainReviews.tsv\")"
   ]
  },
  {
   "cell_type": "code",
   "execution_count": 37,
   "metadata": {},
   "outputs": [
    {
     "name": "stdout",
     "output_type": "stream",
     "text": [
      "+----+--------+--------------------+--------------------+\n",
      "|  id|category|                text|               words|\n",
      "+----+--------+--------------------+--------------------+\n",
      "| 858|       0|burnt money is th...|[burnt, money, is...|\n",
      "|1762|       1|the   italian hit...|[the, , , italian...|\n",
      "| 235|       0|at times   you d ...|[at, times, , , y...|\n",
      "| 712|       0|after a marketing...|[after, a, market...|\n",
      "|1319|       1|john cusack is th...|[john, cusack, is...|\n",
      "+----+--------+--------------------+--------------------+\n",
      "only showing top 5 rows\n",
      "\n"
     ]
    }
   ],
   "source": [
    "tokenizer = Tokenizer(inputCol=\"text\", outputCol=\"words\")\n",
    "wordsData = tokenizer.transform(df)\n",
    "wordsData.show(5)"
   ]
  },
  {
   "cell_type": "code",
   "execution_count": 7,
   "metadata": {},
   "outputs": [
    {
     "name": "stdout",
     "output_type": "stream",
     "text": [
      "+----+--------+--------------------+--------------------+--------------------+\n",
      "|  id|category|                text|               words|         rawFeatures|\n",
      "+----+--------+--------------------+--------------------+--------------------+\n",
      "| 858|       0|burnt money is th...|[burnt, money, is...|(262144,[14,2437,...|\n",
      "|1762|       1|the   italian hit...|[the, , , italian...|(262144,[5090,963...|\n",
      "| 235|       0|at times   you d ...|[at, times, , , y...|(262144,[1846,357...|\n",
      "| 712|       0|after a marketing...|[after, a, market...|(262144,[3760,392...|\n",
      "|1319|       1|john cusack is th...|[john, cusack, is...|(262144,[14,1998,...|\n",
      "|1488|       1|every once in a w...|[every, once, in,...|(262144,[2366,329...|\n",
      "|  76|       0|for better or wor...|[for, better, or,...|(262144,[14,991,1...|\n",
      "|  69|       0|   first rule of ...|[, , , first, rul...|(262144,[14,571,1...|\n",
      "|1144|       1|it is hard to ima...|[it, is, hard, to...|(262144,[2329,243...|\n",
      "|  75|       0|late in down to y...|[late, in, down, ...|(262144,[1846,261...|\n",
      "+----+--------+--------------------+--------------------+--------------------+\n",
      "only showing top 10 rows\n",
      "\n"
     ]
    }
   ],
   "source": [
    "hashingTF = HashingTF(inputCol=\"words\", outputCol=\"rawFeatures\")\n",
    "tf = hashingTF.transform(wordsData)\n",
    "tf.show(10)"
   ]
  },
  {
   "cell_type": "code",
   "execution_count": 36,
   "metadata": {},
   "outputs": [
    {
     "data": {
      "text/plain": [
       "SparseVector(262144, {14: 1.0, 2437: 1.0, 3234: 1.0, 6061: 1.0, 7156: 2.0, 9255: 1.0, 9639: 5.0, 9781: 1.0, 13981: 1.0, 15664: 3.0, 15889: 6.0, 16332: 2.0, 17291: 7.0, 18448: 1.0, 18483: 1.0, 19153: 1.0, 19370: 1.0, 20832: 1.0, 21300: 1.0, 22264: 1.0, 22323: 1.0, 23326: 1.0, 24417: 1.0, 24661: 1.0, 24980: 1.0, 25570: 2.0, 28818: 2.0, 29066: 1.0, 30569: 2.0, 30700: 1.0, 34116: 3.0, 35383: 1.0, 35661: 1.0, 36564: 1.0, 40108: 2.0, 40343: 1.0, 40732: 1.0, 41213: 1.0, 41508: 1.0, 42239: 1.0, 45441: 1.0, 45818: 1.0, 46762: 2.0, 48448: 3.0, 50940: 6.0, 52617: 1.0, 54383: 1.0, 55242: 1.0, 56063: 2.0, 56715: 1.0, 57304: 1.0, 59733: 1.0, 60268: 1.0, 60483: 1.0, 63422: 1.0, 66314: 1.0, 66980: 2.0, 69529: 1.0, 70869: 1.0, 76764: 1.0, 77142: 1.0, 77372: 2.0, 79323: 1.0, 79364: 2.0, 79737: 1.0, 79876: 1.0, 85125: 2.0, 86175: 6.0, 86436: 5.0, 86832: 1.0, 87052: 1.0, 87927: 1.0, 89356: 3.0, 89457: 1.0, 91677: 14.0, 94518: 1.0, 94533: 8.0, 95457: 1.0, 95543: 1.0, 96257: 1.0, 96638: 2.0, 96717: 2.0, 98431: 1.0, 98889: 1.0, 99895: 3.0, 100258: 1.0, 101169: 5.0, 101376: 1.0, 102451: 1.0, 103474: 1.0, 103838: 14.0, 104220: 1.0, 106951: 1.0, 107499: 1.0, 107507: 1.0, 107810: 1.0, 108541: 7.0, 111370: 1.0, 113351: 1.0, 113764: 1.0, 116836: 1.0, 116873: 2.0, 118530: 2.0, 118777: 1.0, 118936: 1.0, 120904: 1.0, 122600: 1.0, 125372: 4.0, 126466: 1.0, 126783: 1.0, 132975: 1.0, 133143: 2.0, 135560: 1.0, 135795: 1.0, 139098: 2.0, 139910: 1.0, 140351: 1.0, 140390: 2.0, 140451: 1.0, 140586: 1.0, 144379: 1.0, 146390: 1.0, 146451: 1.0, 147231: 1.0, 147765: 1.0, 151536: 2.0, 155259: 1.0, 155321: 2.0, 156250: 2.0, 157676: 1.0, 159176: 1.0, 160490: 2.0, 163284: 1.0, 164854: 1.0, 167122: 2.0, 167152: 1.0, 172477: 1.0, 173297: 1.0, 174427: 1.0, 175321: 1.0, 177220: 1.0, 178534: 1.0, 178906: 1.0, 179344: 2.0, 180535: 2.0, 181519: 1.0, 181635: 2.0, 184280: 1.0, 186480: 1.0, 186925: 1.0, 188424: 3.0, 188534: 1.0, 189082: 1.0, 189683: 2.0, 191743: 1.0, 192394: 1.0, 193347: 1.0, 193866: 1.0, 193889: 3.0, 194536: 1.0, 197219: 1.0, 197339: 1.0, 200420: 1.0, 203416: 1.0, 203802: 2.0, 204380: 1.0, 205044: 6.0, 205340: 1.0, 205386: 1.0, 205460: 2.0, 206312: 2.0, 207001: 1.0, 208001: 1.0, 208005: 1.0, 208258: 1.0, 210040: 1.0, 212683: 1.0, 215277: 1.0, 216350: 1.0, 217349: 1.0, 221315: 2.0, 221634: 1.0, 222453: 6.0, 226939: 3.0, 227410: 11.0, 227860: 1.0, 229407: 1.0, 230076: 2.0, 230634: 1.0, 231829: 1.0, 232427: 1.0, 236033: 1.0, 236986: 3.0, 237079: 1.0, 238301: 1.0, 239029: 1.0, 242101: 1.0, 243875: 1.0, 245731: 1.0, 245806: 1.0, 247107: 2.0, 247868: 1.0, 249180: 123.0, 250475: 3.0, 252843: 1.0, 253475: 2.0, 253737: 1.0, 253831: 2.0, 256538: 1.0, 257202: 1.0, 258125: 1.0, 258969: 1.0, 259399: 1.0, 259666: 1.0, 261418: 1.0})"
      ]
     },
     "execution_count": 36,
     "metadata": {},
     "output_type": "execute_result"
    }
   ],
   "source": [
    "tf.head().rawFeatures"
   ]
  },
  {
   "cell_type": "code",
   "execution_count": 12,
   "metadata": {
    "collapsed": true
   },
   "outputs": [],
   "source": [
    "idf = IDF(inputCol=\"rawFeatures\", outputCol=\"features\", minDocFreq=2).fit(tf)\n",
    "tfidf = idf.transform(tf)"
   ]
  },
  {
   "cell_type": "code",
   "execution_count": 13,
   "metadata": {},
   "outputs": [
    {
     "name": "stdout",
     "output_type": "stream",
     "text": [
      "+----+--------+--------------------+--------------------+--------------------+--------------------+\n",
      "|  id|category|                text|               words|         rawFeatures|            features|\n",
      "+----+--------+--------------------+--------------------+--------------------+--------------------+\n",
      "| 858|       0|burnt money is th...|[burnt, money, is...|(262144,[14,2437,...|(262144,[14,2437,...|\n",
      "|1762|       1|the   italian hit...|[the, , , italian...|(262144,[5090,963...|(262144,[5090,963...|\n",
      "| 235|       0|at times   you d ...|[at, times, , , y...|(262144,[1846,357...|(262144,[1846,357...|\n",
      "| 712|       0|after a marketing...|[after, a, market...|(262144,[3760,392...|(262144,[3760,392...|\n",
      "|1319|       1|john cusack is th...|[john, cusack, is...|(262144,[14,1998,...|(262144,[14,1998,...|\n",
      "+----+--------+--------------------+--------------------+--------------------+--------------------+\n",
      "only showing top 5 rows\n",
      "\n"
     ]
    }
   ],
   "source": [
    "tfidf.show(5)"
   ]
  },
  {
   "cell_type": "code",
   "execution_count": 14,
   "metadata": {
    "collapsed": true
   },
   "outputs": [],
   "source": [
    "ml = LogisticRegression(featuresCol=\"features\", labelCol='category', regParam=0.01)"
   ]
  },
  {
   "cell_type": "code",
   "execution_count": 15,
   "metadata": {
    "collapsed": true
   },
   "outputs": [],
   "source": [
    "mlModel = ml.fit(tfidf.limit(5000))"
   ]
  },
  {
   "cell_type": "code",
   "execution_count": 16,
   "metadata": {
    "collapsed": true
   },
   "outputs": [],
   "source": [
    "res_train = mlModel.transform(tfidf)"
   ]
  },
  {
   "cell_type": "code",
   "execution_count": 17,
   "metadata": {
    "collapsed": true
   },
   "outputs": [],
   "source": [
    "extract_prob = F.udf(lambda x: float(x[1]), T.FloatType())"
   ]
  },
  {
   "cell_type": "code",
   "execution_count": 18,
   "metadata": {},
   "outputs": [
    {
     "name": "stdout",
     "output_type": "stream",
     "text": [
      "+----+------------+----------+\n",
      "|  id|       proba|prediction|\n",
      "+----+------------+----------+\n",
      "| 858| 0.004850338|       0.0|\n",
      "|1762|   0.9935536|       1.0|\n",
      "| 235|0.0043423125|       0.0|\n",
      "| 712|0.0018025053|       0.0|\n",
      "|1319|  0.99910474|       1.0|\n",
      "|1488|   0.9971708|       1.0|\n",
      "|  76|0.0020437534|       0.0|\n",
      "|  69|0.0027964748|       0.0|\n",
      "|1144|   0.9984451|       1.0|\n",
      "|  75|0.0014211949|       0.0|\n",
      "|1816|  0.99190885|       1.0|\n",
      "|1542|  0.99767244|       1.0|\n",
      "|1153|  0.99755925|       1.0|\n",
      "|1904|  0.99952346|       1.0|\n",
      "|  93|0.0041584536|       0.0|\n",
      "|1669|   0.9992438|       1.0|\n",
      "|1348|  0.99620974|       1.0|\n",
      "|1610|  0.99875736|       1.0|\n",
      "| 684|0.0033833312|       0.0|\n",
      "| 918|0.0029977756|       0.0|\n",
      "+----+------------+----------+\n",
      "only showing top 20 rows\n",
      "\n"
     ]
    }
   ],
   "source": [
    "res_train.withColumn(\"proba\", extract_prob(\"probability\")).select(\"id\", \"proba\", \"prediction\").show()"
   ]
  },
  {
   "cell_type": "code",
   "execution_count": 19,
   "metadata": {
    "collapsed": true
   },
   "outputs": [],
   "source": [
    "test_df = spark.read.format(\"csv\").option(\"inferschema\",\"true\").option(\"header\", \"true\").option(\"delimiter\", \"\\t\").load(\"testReviews.tsv\")"
   ]
  },
  {
   "cell_type": "code",
   "execution_count": 20,
   "metadata": {},
   "outputs": [
    {
     "name": "stdout",
     "output_type": "stream",
     "text": [
      "+----+--------+--------------------+--------------------+\n",
      "|  id|category|                text|               words|\n",
      "+----+--------+--------------------+--------------------+\n",
      "|1790|       1|you leave little ...|[you, leave, litt...|\n",
      "| 243|       0|the most popular ...|[the, most, popul...|\n",
      "|1501|       1|towards the middl...|[towards, the, mi...|\n",
      "|1229|       1|the   submarine  ...|[the, , , submari...|\n",
      "|1618|       1|a welcome cinemat...|[a, welcome, cine...|\n",
      "+----+--------+--------------------+--------------------+\n",
      "only showing top 5 rows\n",
      "\n"
     ]
    }
   ],
   "source": [
    "tokenizer = Tokenizer(inputCol=\"text\", outputCol=\"words\")\n",
    "wordsData = tokenizer.transform(test_df)\n",
    "wordsData.show(5)"
   ]
  },
  {
   "cell_type": "code",
   "execution_count": 21,
   "metadata": {},
   "outputs": [
    {
     "name": "stdout",
     "output_type": "stream",
     "text": [
      "+----+--------+--------------------+--------------------+--------------------+\n",
      "|  id|category|                text|               words|         rawFeatures|\n",
      "+----+--------+--------------------+--------------------+--------------------+\n",
      "|1790|       1|you leave little ...|[you, leave, litt...|(262144,[15,4200,...|\n",
      "| 243|       0|the most popular ...|[the, most, popul...|(262144,[2192,243...|\n",
      "|1501|       1|towards the middl...|[towards, the, mi...|(262144,[925,2026...|\n",
      "|1229|       1|the   submarine  ...|[the, , , submari...|(262144,[14,3023,...|\n",
      "|1618|       1|a welcome cinemat...|[a, welcome, cine...|(262144,[2325,261...|\n",
      "|1582|       1|this movie was on...|[this, movie, was...|(262144,[14,1889,...|\n",
      "| 488|       0|where do i begin ...|[where, do, i, be...|(262144,[14,2410,...|\n",
      "|1093|       1|accepting his osc...|[accepting, his, ...|(262144,[1414,606...|\n",
      "|1280|       1|written by john g...|[written, by, joh...|(262144,[14,2705,...|\n",
      "|1655|       1|   a man is not a...|[, , , a, man, is...|(262144,[991,1769...|\n",
      "+----+--------+--------------------+--------------------+--------------------+\n",
      "only showing top 10 rows\n",
      "\n"
     ]
    }
   ],
   "source": [
    "test_tf = hashingTF.transform(wordsData)\n",
    "test_tf.show(10)"
   ]
  },
  {
   "cell_type": "code",
   "execution_count": 22,
   "metadata": {
    "collapsed": true
   },
   "outputs": [],
   "source": [
    "test_idf = IDF(inputCol=\"rawFeatures\", outputCol=\"features\", minDocFreq=2).fit(test_tf)\n",
    "test_tfidf = idf.transform(test_tf)"
   ]
  },
  {
   "cell_type": "code",
   "execution_count": 23,
   "metadata": {},
   "outputs": [
    {
     "name": "stdout",
     "output_type": "stream",
     "text": [
      "+----+--------+--------------------+--------------------+--------------------+--------------------+\n",
      "|  id|category|                text|               words|         rawFeatures|            features|\n",
      "+----+--------+--------------------+--------------------+--------------------+--------------------+\n",
      "|1790|       1|you leave little ...|[you, leave, litt...|(262144,[15,4200,...|(262144,[15,4200,...|\n",
      "| 243|       0|the most popular ...|[the, most, popul...|(262144,[2192,243...|(262144,[2192,243...|\n",
      "|1501|       1|towards the middl...|[towards, the, mi...|(262144,[925,2026...|(262144,[925,2026...|\n",
      "|1229|       1|the   submarine  ...|[the, , , submari...|(262144,[14,3023,...|(262144,[14,3023,...|\n",
      "|1618|       1|a welcome cinemat...|[a, welcome, cine...|(262144,[2325,261...|(262144,[2325,261...|\n",
      "+----+--------+--------------------+--------------------+--------------------+--------------------+\n",
      "only showing top 5 rows\n",
      "\n"
     ]
    }
   ],
   "source": [
    "test_tfidf.show(5)"
   ]
  },
  {
   "cell_type": "code",
   "execution_count": 24,
   "metadata": {
    "collapsed": true
   },
   "outputs": [],
   "source": [
    "res_test = mlModel.transform(test_tfidf)"
   ]
  },
  {
   "cell_type": "code",
   "execution_count": 28,
   "metadata": {},
   "outputs": [
    {
     "name": "stdout",
     "output_type": "stream",
     "text": [
      "+----+--------+--------------------+--------------------+--------------------+--------------------+--------------------+--------------------+----------+\n",
      "|  id|category|                text|               words|         rawFeatures|            features|       rawPrediction|         probability|prediction|\n",
      "+----+--------+--------------------+--------------------+--------------------+--------------------+--------------------+--------------------+----------+\n",
      "|1790|       1|you leave little ...|[you, leave, litt...|(262144,[15,4200,...|(262144,[15,4200,...|[-1.6342528526597...|[0.16324859566363...|       1.0|\n",
      "| 243|       0|the most popular ...|[the, most, popul...|(262144,[2192,243...|(262144,[2192,243...|[2.62731392262806...|[0.93259890352084...|       0.0|\n",
      "+----+--------+--------------------+--------------------+--------------------+--------------------+--------------------+--------------------+----------+\n",
      "only showing top 2 rows\n",
      "\n"
     ]
    }
   ],
   "source": [
    "res_test.show(2)"
   ]
  },
  {
   "cell_type": "code",
   "execution_count": 29,
   "metadata": {},
   "outputs": [
    {
     "name": "stdout",
     "output_type": "stream",
     "text": [
      "+----+-----------+----------+\n",
      "|  id|      proba|prediction|\n",
      "+----+-----------+----------+\n",
      "|1790|  0.8367514|       1.0|\n",
      "| 243|0.067401096|       0.0|\n",
      "|1501| 0.88819647|       1.0|\n",
      "|1229|  0.7159783|       1.0|\n",
      "|1618|  0.5893712|       1.0|\n",
      "|1582| 0.59913754|       1.0|\n",
      "| 488| 0.09497543|       0.0|\n",
      "|1093|  0.4517028|       0.0|\n",
      "|1280|  0.9903946|       1.0|\n",
      "|1655|  0.9998224|       1.0|\n",
      "+----+-----------+----------+\n",
      "only showing top 10 rows\n",
      "\n"
     ]
    }
   ],
   "source": [
    "res_test.withColumn(\"proba\", extract_prob(\"probability\")).select(\"id\", \"proba\", \"prediction\").show(10)"
   ]
  },
  {
   "cell_type": "code",
   "execution_count": null,
   "metadata": {
    "collapsed": true
   },
   "outputs": [],
   "source": []
  }
 ],
 "metadata": {
  "kernelspec": {
   "display_name": "Python 3",
   "language": "python",
   "name": "python3"
  },
  "language_info": {
   "codemirror_mode": {
    "name": "ipython",
    "version": 3
   },
   "file_extension": ".py",
   "mimetype": "text/x-python",
   "name": "python",
   "nbconvert_exporter": "python",
   "pygments_lexer": "ipython3",
   "version": "3.5.4"
  }
 },
 "nbformat": 4,
 "nbformat_minor": 2
}
